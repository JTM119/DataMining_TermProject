{
  "nbformat": 4,
  "nbformat_minor": 0,
  "metadata": {
    "colab": {
      "name": "Extract Layers",
      "provenance": [],
      "collapsed_sections": []
    },
    "kernelspec": {
      "name": "python3",
      "display_name": "Python 3"
    },
    "language_info": {
      "name": "python"
    }
  },
  "cells": [
    {
      "cell_type": "code",
      "source": [
        "import tensorflow as tf\n",
        "import numpy as np\n",
        "from PIL import Image\n",
        "from keras.models import Model\n",
        "import pandas as pd"
      ],
      "metadata": {
        "id": "ovEOO66pWx3F"
      },
      "execution_count": null,
      "outputs": []
    },
    {
      "cell_type": "code",
      "execution_count": null,
      "metadata": {
        "colab": {
          "base_uri": "https://localhost:8080/"
        },
        "id": "edeC9Sk4Wpsr",
        "outputId": "12263d44-ab65-4ecc-857b-a0e5a3552643"
      },
      "outputs": [
        {
          "output_type": "stream",
          "name": "stdout",
          "text": [
            "Mounted at /content/Drive\n"
          ]
        }
      ],
      "source": [
        "# Mount Google Drive\n",
        "from google.colab import drive\n",
        "drive.mount('/content/Drive', force_remount=True)\n",
        "# When you run this block, you will need to click open a link to get some \n",
        "import os\n",
        "#TODO\n",
        "os.chdir('/content/Drive/My Drive/DataMining_Project_Mine/')\n",
        "model = tf.keras.models.load_model('basic_cnn_checkpoint_4_dropout0.15_l2_reg')"
      ]
    },
    {
      "cell_type": "code",
      "source": [
        "top_dir = 'data/raw'\n",
        "os.chdir('/content/Drive/My Drive/DataMining_Project/' + top_dir)\n",
        "intermediate_layer_model = Model(inputs=model.input, outputs=model.layers[-3].output)\n",
        "numpys = []\n",
        "labels = []\n",
        "\n",
        "for root, dirs, files in os.walk(os.getcwd()):\n",
        "    folder = root[root.rfind(\"/\"):]\n",
        "    for file in files:\n",
        "        im = Image.open(root + \"/\" + file)\n",
        "        imArr = np.array(im).reshape(1, 256, 256, 3)\n",
        "        dense_output = intermediate_layer_model.predict(imArr)\n",
        "        numpys.append(dense_output)\n",
        "        labels.append(folder[1:])\n"
      ],
      "metadata": {
        "id": "XDqFuJria61M"
      },
      "execution_count": null,
      "outputs": []
    },
    {
      "cell_type": "code",
      "source": [
        "numpys = np.array(numpys).reshape((8567, 100))\n",
        "df1 = pd.DataFrame(numpys)\n",
        "df2 = pd.DataFrame(labels)"
      ],
      "metadata": {
        "id": "bD6XEiQuvvpB"
      },
      "execution_count": null,
      "outputs": []
    },
    {
      "cell_type": "code",
      "source": [
        "df = pd.concat([df1, df2], axis =1)\n",
        "df"
      ],
      "metadata": {
        "id": "f2bDFIW645bq"
      },
      "execution_count": null,
      "outputs": []
    },
    {
      "cell_type": "code",
      "source": [
        "os.chdir('/content/Drive/My Drive/DataMining_Project/data/')\n",
        "df.to_csv('basic_droput_and_reg.csv', ',', header=False, index=False)"
      ],
      "metadata": {
        "id": "XKfbgBBvtt_F"
      },
      "execution_count": null,
      "outputs": []
    },
    {
      "cell_type": "code",
      "source": [
        "features = pd.read_csv('basic_droput_and_reg.csv', header=None)\n",
        "labels = features[100]\n",
        "features = features.drop(100, axis=1)\n",
        "features"
      ],
      "metadata": {
        "id": "e91pyVfA8JlC"
      },
      "execution_count": null,
      "outputs": []
    },
    {
      "cell_type": "code",
      "source": [
        "from sklearn.model_selection import train_test_split\n",
        "from sklearn.ensemble import RandomForestClassifier\n",
        "\n",
        "train_features, test_features, train_labels, test_labels = train_test_split(features, labels, test_size = 0.25, random_state = 42)\n",
        "# Instantiate model with 1000 decision trees\n",
        "rf = RandomForestClassifier(n_estimators = 1000, random_state = 42)\n",
        "# Train the model on training data\n",
        "rf.fit(train_features, train_labels);"
      ],
      "metadata": {
        "id": "ZhFx1zvr8-3Z"
      },
      "execution_count": null,
      "outputs": []
    },
    {
      "cell_type": "code",
      "source": [
        "predictions = rf.predict(test_features)\n",
        "corr = 0\n",
        "tot = 0\n",
        "for x in range(len(predictions)):\n",
        "  if(predictions[x] == test_labels.iloc[x]):\n",
        "    corr += 1\n",
        "  tot += 1\n",
        "\n",
        "print(\"accuracy: \" + str(corr/tot))  \n",
        "\n"
      ],
      "metadata": {
        "colab": {
          "base_uri": "https://localhost:8080/"
        },
        "id": "2oZTQ6-g9sta",
        "outputId": "4550194f-3e9f-46d2-d8d7-f61fb48b7777"
      },
      "execution_count": null,
      "outputs": [
        {
          "output_type": "stream",
          "name": "stdout",
          "text": [
            "accuracy: 0.33426704014939307\n"
          ]
        }
      ]
    },
    {
      "cell_type": "code",
      "source": [
        "from sklearn.metrics import classification_report, confusion_matrix\n",
        "print(confusion_matrix(test_labels, predictions))\n",
        "print(classification_report(test_labels,predictions))"
      ],
      "metadata": {
        "id": "1IDFlIRmD2iK"
      },
      "execution_count": null,
      "outputs": []
    },
    {
      "cell_type": "code",
      "source": [
        "from sklearn.svm import SVC\n",
        "svclassifier = SVC(kernel='linear')\n",
        "svclassifier.fit(train_features, train_labels)"
      ],
      "metadata": {
        "colab": {
          "base_uri": "https://localhost:8080/"
        },
        "id": "zAnRN4IkADIG",
        "outputId": "636e51b2-e68b-4bb1-ef9b-58001a9d4c73"
      },
      "execution_count": null,
      "outputs": [
        {
          "output_type": "execute_result",
          "data": {
            "text/plain": [
              "SVC(kernel='linear')"
            ]
          },
          "metadata": {},
          "execution_count": 25
        }
      ]
    },
    {
      "cell_type": "code",
      "source": [
        "pred = svclassifier.predict(test_features)\n",
        "corr = 0\n",
        "tot = 0\n",
        "for x in range(len(predictions)):\n",
        "  if(pred[x] == test_labels.iloc[x]):\n",
        "    corr += 1\n",
        "  tot += 1\n",
        "\n",
        "print(\"accuracy: \" + str(corr/tot))  \n"
      ],
      "metadata": {
        "colab": {
          "base_uri": "https://localhost:8080/"
        },
        "id": "2nRswEo_Atza",
        "outputId": "6c5f4385-a2fa-41c3-c610-449ab6d633b5"
      },
      "execution_count": null,
      "outputs": [
        {
          "output_type": "stream",
          "name": "stdout",
          "text": [
            "accuracy: 0.35154061624649857\n"
          ]
        }
      ]
    },
    {
      "cell_type": "code",
      "source": [
        "from sklearn.metrics import classification_report, confusion_matrix\n",
        "print(confusion_matrix(test_labels, pred))\n",
        "print(classification_report(test_labels,pred))"
      ],
      "metadata": {
        "colab": {
          "base_uri": "https://localhost:8080/"
        },
        "id": "N2uJKJ6BDizL",
        "outputId": "15c18c30-5365-4b2b-ef53-0f45c48da1ab"
      },
      "execution_count": null,
      "outputs": [
        {
          "output_type": "stream",
          "name": "stdout",
          "text": [
            "[[23  1  3 ...  0  1  0]\n",
            " [ 5  0  2 ...  0  0  0]\n",
            " [ 7  0 13 ...  0  0  0]\n",
            " ...\n",
            " [ 0  0  0 ...  0  0  0]\n",
            " [ 7  0  0 ...  0  0  5]\n",
            " [ 6  0  0 ...  0  1 34]]\n",
            "                                                  precision    recall  f1-score   support\n",
            "\n",
            "                                apple apple scab       0.10      0.33      0.16        69\n",
            "                                 apple black rot       0.00      0.00      0.00        23\n",
            "                          apple cedar apple rust       0.23      0.22      0.22        59\n",
            "                                   apple healthy       0.20      0.08      0.12        12\n",
            "                                  banana healthy       0.56      0.40      0.47       166\n",
            "                                 banana segatoka       0.61      0.61      0.61       327\n",
            "                              banana xamthomonas       0.46      0.71      0.56       398\n",
            "                 cherry (including sour) healthy       0.20      0.10      0.13        20\n",
            "          cherry (including sour) powdery mildew       0.00      0.00      0.00        16\n",
            "corn (maize) cercospora leaf spot gray leaf spot       0.50      0.03      0.06        58\n",
            "                        corn (maize) common rust       0.54      0.38      0.44        37\n",
            "                            corn (maize) healthy       0.50      0.08      0.13        52\n",
            "               corn (maize) northern leaf blight       0.12      0.16      0.14        55\n",
            "                                 grape black rot       0.00      0.00      0.00        22\n",
            "                      grape esca (black measles)       0.55      0.48      0.51        23\n",
            "                                   grape healthy       0.20      0.41      0.27        66\n",
            "        grape leaf blight (isariopsis leaf spot)       0.00      0.00      0.00         8\n",
            "          orange haunglongbing (citrus greening)       0.00      0.00      0.00        34\n",
            "                     pepper, bell bacterial spot       0.00      0.00      0.00        38\n",
            "                            pepper, bell healthy       0.00      0.00      0.00        39\n",
            "                             potato early blight       0.00      0.00      0.00        32\n",
            "                                  potato healthy       0.18      0.45      0.26        38\n",
            "                              potato late blight       0.29      0.05      0.08        42\n",
            "                              strawberry healthy       0.00      0.00      0.00        17\n",
            "                          strawberry leaf scorch       0.19      0.35      0.25        48\n",
            "                                 tea leaf blight       0.16      0.40      0.23        15\n",
            "                               tea red leaf spot       0.60      0.29      0.39        21\n",
            "                                    tea red scab       0.00      0.00      0.00        27\n",
            "                           tomato bacterial spot       0.00      0.00      0.00        25\n",
            "                             tomato early blight       0.00      0.00      0.00        37\n",
            "                                  tomato healthy       0.11      0.03      0.04        39\n",
            "                              tomato late blight       0.11      0.21      0.14        52\n",
            "                                tomato leaf mold       0.16      0.09      0.12        44\n",
            "                       tomato septoria leaf spot       0.33      0.02      0.04        48\n",
            "     tomato spider mites two-spotted spider mite       0.67      0.07      0.12        29\n",
            "                              tomato target spot       0.00      0.00      0.00        10\n",
            "                      tomato tomato mosaic virus       0.00      0.00      0.00        25\n",
            "            tomato tomato yellow leaf curl virus       0.28      0.48      0.35        71\n",
            "\n",
            "                                        accuracy                           0.35      2142\n",
            "                                       macro avg       0.21      0.17      0.15      2142\n",
            "                                    weighted avg       0.34      0.35      0.31      2142\n",
            "\n"
          ]
        },
        {
          "output_type": "stream",
          "name": "stderr",
          "text": [
            "/usr/local/lib/python3.7/dist-packages/sklearn/metrics/_classification.py:1318: UndefinedMetricWarning: Precision and F-score are ill-defined and being set to 0.0 in labels with no predicted samples. Use `zero_division` parameter to control this behavior.\n",
            "  _warn_prf(average, modifier, msg_start, len(result))\n",
            "/usr/local/lib/python3.7/dist-packages/sklearn/metrics/_classification.py:1318: UndefinedMetricWarning: Precision and F-score are ill-defined and being set to 0.0 in labels with no predicted samples. Use `zero_division` parameter to control this behavior.\n",
            "  _warn_prf(average, modifier, msg_start, len(result))\n",
            "/usr/local/lib/python3.7/dist-packages/sklearn/metrics/_classification.py:1318: UndefinedMetricWarning: Precision and F-score are ill-defined and being set to 0.0 in labels with no predicted samples. Use `zero_division` parameter to control this behavior.\n",
            "  _warn_prf(average, modifier, msg_start, len(result))\n"
          ]
        }
      ]
    }
  ]
}